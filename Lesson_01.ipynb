{
  "nbformat": 4,
  "nbformat_minor": 0,
  "metadata": {
    "colab": {
      "name": "Lesson_01.ipynb",
      "provenance": [],
      "collapsed_sections": [],
      "authorship_tag": "ABX9TyMCwX+FMQDY8PBc6GLOukaW",
      "include_colab_link": true
    },
    "kernelspec": {
      "name": "python3",
      "display_name": "Python 3"
    },
    "language_info": {
      "name": "python"
    }
  },
  "cells": [
    {
      "cell_type": "markdown",
      "metadata": {
        "id": "view-in-github",
        "colab_type": "text"
      },
      "source": [
        "<a href=\"https://colab.research.google.com/github/vic-k23/Geekbrains_DS_Python_Libs/blob/Lesson01/Lesson_01.ipynb\" target=\"_parent\"><img src=\"https://colab.research.google.com/assets/colab-badge.svg\" alt=\"Open In Colab\"/></a>"
      ]
    },
    {
      "cell_type": "markdown",
      "metadata": {
        "id": "G_-cftu1jBLq"
      },
      "source": [
        "# **Вычисления с помощью Numpy**"
      ]
    },
    {
      "cell_type": "markdown",
      "metadata": {
        "id": "uwj09pZWOfNz"
      },
      "source": [
        "**Задание 1**\n",
        "Импортируйте библиотеку Numpy и дайте ей псевдоним np.\n",
        "Создайте массив Numpy под названием a размером 5x2, то есть состоящий из 5 строк и 2 столбцов. Первый столбец должен содержать числа 1, 2, 3, 3, 1, а второй - числа 6, 8, 11, 10, 7. Будем считать, что каждый столбец - это признак, а строка - наблюдение. Затем найдите среднее значение по каждому признаку, используя метод mean массива Numpy. Результат запишите в массив mean_a, в нем должно быть 2 элемента.\n"
      ]
    },
    {
      "cell_type": "code",
      "metadata": {
        "id": "qOqswnrXRCyw"
      },
      "source": [
        "import numpy as np"
      ],
      "execution_count": 2,
      "outputs": []
    },
    {
      "cell_type": "code",
      "metadata": {
        "colab": {
          "base_uri": "https://localhost:8080/"
        },
        "id": "55rFT3YZRGYQ",
        "outputId": "77908e45-c0e9-4e88-d7f9-5eab0b7031a5"
      },
      "source": [
        "a = np.array([[1, 2, 3, 3, 1],[6, 8, 11, 10, 7]]).T\n",
        "a"
      ],
      "execution_count": 9,
      "outputs": [
        {
          "output_type": "execute_result",
          "data": {
            "text/plain": [
              "array([[ 1,  6],\n",
              "       [ 2,  8],\n",
              "       [ 3, 11],\n",
              "       [ 3, 10],\n",
              "       [ 1,  7]])"
            ]
          },
          "metadata": {
            "tags": []
          },
          "execution_count": 9
        }
      ]
    },
    {
      "cell_type": "code",
      "metadata": {
        "colab": {
          "base_uri": "https://localhost:8080/"
        },
        "id": "TSBfZr2vSKXn",
        "outputId": "fca6492b-85a2-4793-9249-ede20326579a"
      },
      "source": [
        "mean_a = a.mean(axis=0)\n",
        "mean_a"
      ],
      "execution_count": 10,
      "outputs": [
        {
          "output_type": "execute_result",
          "data": {
            "text/plain": [
              "array([2. , 8.4])"
            ]
          },
          "metadata": {
            "tags": []
          },
          "execution_count": 10
        }
      ]
    },
    {
      "cell_type": "markdown",
      "metadata": {
        "id": "RJ2eh4IiUjPL"
      },
      "source": [
        "**Задание 2**\n",
        "Вычислите массив a_centered, отняв от значений массива “а” средние значения соответствующих признаков, содержащиеся в массиве mean_a. Вычисление должно производиться в одно действие. Получившийся массив должен иметь размер 5x2.\n"
      ]
    },
    {
      "cell_type": "code",
      "metadata": {
        "colab": {
          "base_uri": "https://localhost:8080/"
        },
        "id": "Zxq1JIzRUtsa",
        "outputId": "ee219552-8d0b-4337-d67e-ab3955e4a8e2"
      },
      "source": [
        "a_centered = a - mean_a\n",
        "a_centered"
      ],
      "execution_count": 11,
      "outputs": [
        {
          "output_type": "execute_result",
          "data": {
            "text/plain": [
              "array([[-1. , -2.4],\n",
              "       [ 0. , -0.4],\n",
              "       [ 1. ,  2.6],\n",
              "       [ 1. ,  1.6],\n",
              "       [-1. , -1.4]])"
            ]
          },
          "metadata": {
            "tags": []
          },
          "execution_count": 11
        }
      ]
    },
    {
      "cell_type": "markdown",
      "metadata": {
        "id": "KmH45CxrV58c"
      },
      "source": [
        "**Задание 3**\n",
        "Найдите скалярное произведение столбцов массива a_centered. В результате должна получиться величина a_centered_sp. Затем поделите a_centered_sp на N-1, где N - число наблюдений.\n"
      ]
    },
    {
      "cell_type": "code",
      "metadata": {
        "colab": {
          "base_uri": "https://localhost:8080/"
        },
        "id": "gDFPYkyKV-FK",
        "outputId": "a1ee6a31-a874-4ce6-b5f0-f27bd9a463b1"
      },
      "source": [
        "a_centered_sp = a_centered[:, 0].dot(a_centered[:, 1])\n",
        "print(a_centered_sp)\n",
        "print(a_centered_sp / (a.shape[0] -1))"
      ],
      "execution_count": 24,
      "outputs": [
        {
          "output_type": "stream",
          "text": [
            "8.0\n",
            "2.0\n"
          ],
          "name": "stdout"
        }
      ]
    },
    {
      "cell_type": "markdown",
      "metadata": {
        "id": "9bUXBWuziWOM"
      },
      "source": [
        "**Задание 4**\n",
        "В этом задании проверьте получившееся число, вычислив ковариацию еще одним способом - с помощью функции np.cov. В качестве аргумента m функция np.cov должна принимать транспонированный массив “a”. В получившейся ковариационной матрице (массив Numpy размером 2x2) искомое значение ковариации будет равно элементу в строке с индексом 0 и столбце с индексом 1."
      ]
    },
    {
      "cell_type": "code",
      "metadata": {
        "colab": {
          "base_uri": "https://localhost:8080/"
        },
        "id": "HgrB_TQIia56",
        "outputId": "e3749437-8b76-4639-818d-ce2e9d2ba80c"
      },
      "source": [
        "print(np.cov(a.T)[0,1])"
      ],
      "execution_count": 26,
      "outputs": [
        {
          "output_type": "stream",
          "text": [
            "2.0\n"
          ],
          "name": "stdout"
        }
      ]
    },
    {
      "cell_type": "markdown",
      "metadata": {
        "id": "NJotqCtBjKu6"
      },
      "source": [
        "# **Работа с данными в Pandas**"
      ]
    },
    {
      "cell_type": "markdown",
      "metadata": {
        "id": "Gd6FWeuJjOlR"
      },
      "source": [
        "**Задание 1**\n",
        "Импортируйте библиотеку Pandas и дайте ей псевдоним pd. Создайте датафрейм authors со столбцами author_id и author_name, в которых соответственно содержатся данные: [1, 2, 3] и ['Тургенев', 'Чехов', 'Островский'].\n",
        "Затем создайте датафрейм book cо столбцами author_id, book_title и price, в которых соответственно содержатся данные:  \n",
        "[1, 1, 1, 2, 2, 3, 3],\n",
        "['Отцы и дети', 'Рудин', 'Дворянское гнездо', 'Толстый и тонкий', 'Дама с собачкой', 'Гроза', 'Таланты и поклонники'],\n",
        "[450, 300, 350, 500, 450, 370, 290].\n"
      ]
    },
    {
      "cell_type": "code",
      "metadata": {
        "id": "GH84tKA4jg5x"
      },
      "source": [
        "import pandas as pd"
      ],
      "execution_count": 27,
      "outputs": []
    },
    {
      "cell_type": "code",
      "metadata": {
        "id": "vRr5tlJWj1q8"
      },
      "source": [
        "authors = pd.DataFrame({'author_id':[1, 2, 3], 'author_name': ['Тургенев', 'Чехов', 'Островский']})"
      ],
      "execution_count": 28,
      "outputs": []
    },
    {
      "cell_type": "code",
      "metadata": {
        "id": "2YaK-g9VkjXz"
      },
      "source": [
        "books = pd.DataFrame({'author_id':[1, 1, 1, 2, 2, 3, 3], \n",
        "                      'book_title': ['Отцы и дети', 'Рудин', 'Дворянское гнездо', 'Толстый и тонкий', 'Дама с собачкой', 'Гроза', 'Таланты и поклонники'], \n",
        "                      'price': [450, 300, 350, 500, 450, 370, 290]})"
      ],
      "execution_count": 33,
      "outputs": []
    },
    {
      "cell_type": "code",
      "metadata": {
        "colab": {
          "base_uri": "https://localhost:8080/"
        },
        "id": "EQ7j3tZglBI0",
        "outputId": "d31ae8b8-1a35-457e-f095-05420c7cfd50"
      },
      "source": [
        "print(authors)\n",
        "print(books)"
      ],
      "execution_count": 34,
      "outputs": [
        {
          "output_type": "stream",
          "text": [
            "   author_id author_name\n",
            "0          1    Тургенев\n",
            "1          2       Чехов\n",
            "2          3  Островский\n",
            "   author_id            book_title  price\n",
            "0          1           Отцы и дети    450\n",
            "1          1                 Рудин    300\n",
            "2          1     Дворянское гнездо    350\n",
            "3          2      Толстый и тонкий    500\n",
            "4          2       Дама с собачкой    450\n",
            "5          3                 Гроза    370\n",
            "6          3  Таланты и поклонники    290\n"
          ],
          "name": "stdout"
        }
      ]
    },
    {
      "cell_type": "markdown",
      "metadata": {
        "id": "LeZM6yP0lYca"
      },
      "source": [
        "**Задание 2**\n",
        "Получите датафрейм authors_price, соединив датафреймы authors и books по полю author_id.\n"
      ]
    },
    {
      "cell_type": "code",
      "metadata": {
        "colab": {
          "base_uri": "https://localhost:8080/",
          "height": 264
        },
        "id": "7R_Y79r-lchZ",
        "outputId": "075b35d2-c558-4b02-b7de-3c0ef6f75c27"
      },
      "source": [
        "authors_price = pd.merge(authors, books, how='left', on='author_id')\n",
        "authors_price"
      ],
      "execution_count": 35,
      "outputs": [
        {
          "output_type": "execute_result",
          "data": {
            "text/html": [
              "<div>\n",
              "<style scoped>\n",
              "    .dataframe tbody tr th:only-of-type {\n",
              "        vertical-align: middle;\n",
              "    }\n",
              "\n",
              "    .dataframe tbody tr th {\n",
              "        vertical-align: top;\n",
              "    }\n",
              "\n",
              "    .dataframe thead th {\n",
              "        text-align: right;\n",
              "    }\n",
              "</style>\n",
              "<table border=\"1\" class=\"dataframe\">\n",
              "  <thead>\n",
              "    <tr style=\"text-align: right;\">\n",
              "      <th></th>\n",
              "      <th>author_id</th>\n",
              "      <th>author_name</th>\n",
              "      <th>book_title</th>\n",
              "      <th>price</th>\n",
              "    </tr>\n",
              "  </thead>\n",
              "  <tbody>\n",
              "    <tr>\n",
              "      <th>0</th>\n",
              "      <td>1</td>\n",
              "      <td>Тургенев</td>\n",
              "      <td>Отцы и дети</td>\n",
              "      <td>450</td>\n",
              "    </tr>\n",
              "    <tr>\n",
              "      <th>1</th>\n",
              "      <td>1</td>\n",
              "      <td>Тургенев</td>\n",
              "      <td>Рудин</td>\n",
              "      <td>300</td>\n",
              "    </tr>\n",
              "    <tr>\n",
              "      <th>2</th>\n",
              "      <td>1</td>\n",
              "      <td>Тургенев</td>\n",
              "      <td>Дворянское гнездо</td>\n",
              "      <td>350</td>\n",
              "    </tr>\n",
              "    <tr>\n",
              "      <th>3</th>\n",
              "      <td>2</td>\n",
              "      <td>Чехов</td>\n",
              "      <td>Толстый и тонкий</td>\n",
              "      <td>500</td>\n",
              "    </tr>\n",
              "    <tr>\n",
              "      <th>4</th>\n",
              "      <td>2</td>\n",
              "      <td>Чехов</td>\n",
              "      <td>Дама с собачкой</td>\n",
              "      <td>450</td>\n",
              "    </tr>\n",
              "    <tr>\n",
              "      <th>5</th>\n",
              "      <td>3</td>\n",
              "      <td>Островский</td>\n",
              "      <td>Гроза</td>\n",
              "      <td>370</td>\n",
              "    </tr>\n",
              "    <tr>\n",
              "      <th>6</th>\n",
              "      <td>3</td>\n",
              "      <td>Островский</td>\n",
              "      <td>Таланты и поклонники</td>\n",
              "      <td>290</td>\n",
              "    </tr>\n",
              "  </tbody>\n",
              "</table>\n",
              "</div>"
            ],
            "text/plain": [
              "   author_id author_name            book_title  price\n",
              "0          1    Тургенев           Отцы и дети    450\n",
              "1          1    Тургенев                 Рудин    300\n",
              "2          1    Тургенев     Дворянское гнездо    350\n",
              "3          2       Чехов      Толстый и тонкий    500\n",
              "4          2       Чехов       Дама с собачкой    450\n",
              "5          3  Островский                 Гроза    370\n",
              "6          3  Островский  Таланты и поклонники    290"
            ]
          },
          "metadata": {
            "tags": []
          },
          "execution_count": 35
        }
      ]
    },
    {
      "cell_type": "markdown",
      "metadata": {
        "id": "MWhCmy30mZ7y"
      },
      "source": [
        "**Задание 3**\n",
        "Создайте датафрейм top5, в котором содержатся строки из authors_price с пятью самыми дорогими книгами.\n"
      ]
    },
    {
      "cell_type": "code",
      "metadata": {
        "colab": {
          "base_uri": "https://localhost:8080/"
        },
        "id": "56btTCkXmfyt",
        "outputId": "598bf472-752b-4bd5-e60b-85c907ef4d25"
      },
      "source": [
        "top5 = authors_price.sort_values(by='price', ignore_index=True, ascending=False).head()\n",
        "print(top5)"
      ],
      "execution_count": 39,
      "outputs": [
        {
          "output_type": "stream",
          "text": [
            "   author_id author_name         book_title  price\n",
            "0          2       Чехов   Толстый и тонкий    500\n",
            "1          1    Тургенев        Отцы и дети    450\n",
            "2          2       Чехов    Дама с собачкой    450\n",
            "3          3  Островский              Гроза    370\n",
            "4          1    Тургенев  Дворянское гнездо    350\n"
          ],
          "name": "stdout"
        }
      ]
    },
    {
      "cell_type": "markdown",
      "metadata": {
        "id": "pCjay7qFo-A8"
      },
      "source": [
        "**Задание 4**\n",
        "Создайте датафрейм authors_stat на основе информации из authors_price. В датафрейме authors_stat должны быть четыре столбца:\n",
        "author_name, min_price, max_price и mean_price,\n",
        "в которых должны содержаться соответственно имя автора, минимальная, максимальная и средняя цена на книги этого автора.\n"
      ]
    },
    {
      "cell_type": "code",
      "metadata": {
        "colab": {
          "base_uri": "https://localhost:8080/"
        },
        "id": "FuqmNwCopEry",
        "outputId": "0a11c0b7-55e2-42aa-86b1-82ce9d57aff5"
      },
      "source": [
        "authors_stat = authors_price.groupby('author_name').agg(min = ('price', 'min'), max = ('price', 'max'), mean = ('price', 'mean'))\n",
        "print(authors_stat)"
      ],
      "execution_count": 41,
      "outputs": [
        {
          "output_type": "stream",
          "text": [
            "             min  max        mean\n",
            "author_name                      \n",
            "Островский   290  370  330.000000\n",
            "Тургенев     300  450  366.666667\n",
            "Чехов        450  500  475.000000\n"
          ],
          "name": "stdout"
        }
      ]
    },
    {
      "cell_type": "markdown",
      "metadata": {
        "id": "o8nMkE5ktVmH"
      },
      "source": [
        "**Задание 5**\n",
        "Создайте новый столбец в датафрейме authors_price под названием cover, в нем будут располагаться данные о том, какая обложка у данной книги - твердая или мягкая. В этот столбец поместите данные из следующего списка:\n",
        "['твердая', 'мягкая', 'мягкая', 'твердая', 'твердая', 'мягкая', 'мягкая'].\n",
        "Просмотрите документацию по функции pd.pivot_table с помощью вопросительного знака.Для каждого автора посчитайте суммарную стоимость книг в твердой и мягкой обложке. Используйте для этого функцию pd.pivot_table. При этом столбцы должны называться \"твердая\" и \"мягкая\", а индексами должны быть фамилии авторов. Пропущенные значения стоимостей заполните нулями, при необходимости загрузите библиотеку Numpy.\n",
        "Назовите полученный датасет book_info и сохраните его в формат pickle под названием \"book_info.pkl\". Затем загрузите из этого файла датафрейм и назовите его book_info2. Удостоверьтесь, что датафреймы book_info и book_info2 идентичны.\n"
      ]
    },
    {
      "cell_type": "code",
      "metadata": {
        "colab": {
          "base_uri": "https://localhost:8080/"
        },
        "id": "jElxyKmNtZ82",
        "outputId": "3f5d48bf-0c46-4862-93ed-b4fd6056521c"
      },
      "source": [
        "authors_price['cover'] = ['твердая', 'мягкая', 'мягкая', 'твердая', 'твердая', 'мягкая', 'мягкая']\n",
        "print(authors_price)"
      ],
      "execution_count": 42,
      "outputs": [
        {
          "output_type": "stream",
          "text": [
            "   author_id author_name            book_title  price    cover\n",
            "0          1    Тургенев           Отцы и дети    450  твердая\n",
            "1          1    Тургенев                 Рудин    300   мягкая\n",
            "2          1    Тургенев     Дворянское гнездо    350   мягкая\n",
            "3          2       Чехов      Толстый и тонкий    500  твердая\n",
            "4          2       Чехов       Дама с собачкой    450  твердая\n",
            "5          3  Островский                 Гроза    370   мягкая\n",
            "6          3  Островский  Таланты и поклонники    290   мягкая\n"
          ],
          "name": "stdout"
        }
      ]
    },
    {
      "cell_type": "code",
      "metadata": {
        "colab": {
          "base_uri": "https://localhost:8080/"
        },
        "id": "OHkiAkNiuLFM",
        "outputId": "89747749-4cbb-4272-d568-013824faf20d"
      },
      "source": [
        "book_info = pd.pivot_table(authors_price, values='price', index=['author_name'],\n",
        "...                     columns=['cover'], aggfunc=np.sum, fill_value=0)\n",
        "print(book_info)"
      ],
      "execution_count": 45,
      "outputs": [
        {
          "output_type": "stream",
          "text": [
            "cover        мягкая  твердая\n",
            "author_name                 \n",
            "Островский      660        0\n",
            "Тургенев        650      450\n",
            "Чехов             0      950\n"
          ],
          "name": "stdout"
        }
      ]
    },
    {
      "cell_type": "code",
      "metadata": {
        "id": "cAcfVj2axWK_"
      },
      "source": [
        "book_info.to_pickle('book_info.pkl')"
      ],
      "execution_count": 46,
      "outputs": []
    },
    {
      "cell_type": "code",
      "metadata": {
        "colab": {
          "base_uri": "https://localhost:8080/"
        },
        "id": "JyE9nEzhxlZ4",
        "outputId": "51931977-c6ba-43d7-fa26-355e1cb62ace"
      },
      "source": [
        "book_info2 = pd.read_pickle('book_info.pkl')\n",
        "print(book_info2)"
      ],
      "execution_count": 47,
      "outputs": [
        {
          "output_type": "stream",
          "text": [
            "cover        мягкая  твердая\n",
            "author_name                 \n",
            "Островский      660        0\n",
            "Тургенев        650      450\n",
            "Чехов             0      950\n"
          ],
          "name": "stdout"
        }
      ]
    }
  ]
}